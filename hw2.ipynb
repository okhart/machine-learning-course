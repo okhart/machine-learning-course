{
 "cells": [
  {
   "cell_type": "code",
   "execution_count": 298,
   "id": "equal-palmer",
   "metadata": {},
   "outputs": [],
   "source": [
    "import pandas as pd\n",
    "import numpy as np\n",
    "step=1e-3"
   ]
  },
  {
   "cell_type": "code",
   "execution_count": 327,
   "id": "needed-facing",
   "metadata": {},
   "outputs": [
    {
     "data": {
      "text/html": [
       "<div>\n",
       "<style scoped>\n",
       "    .dataframe tbody tr th:only-of-type {\n",
       "        vertical-align: middle;\n",
       "    }\n",
       "\n",
       "    .dataframe tbody tr th {\n",
       "        vertical-align: top;\n",
       "    }\n",
       "\n",
       "    .dataframe thead th {\n",
       "        text-align: right;\n",
       "    }\n",
       "</style>\n",
       "<table border=\"1\" class=\"dataframe\">\n",
       "  <thead>\n",
       "    <tr style=\"text-align: right;\">\n",
       "      <th></th>\n",
       "      <th>0</th>\n",
       "      <th>1</th>\n",
       "      <th>2</th>\n",
       "      <th>3</th>\n",
       "      <th>4</th>\n",
       "      <th>5</th>\n",
       "      <th>6</th>\n",
       "    </tr>\n",
       "  </thead>\n",
       "  <tbody>\n",
       "    <tr>\n",
       "      <th>0</th>\n",
       "      <td>85.0</td>\n",
       "      <td>92.0</td>\n",
       "      <td>45.0</td>\n",
       "      <td>27.0</td>\n",
       "      <td>31.0</td>\n",
       "      <td>0.0</td>\n",
       "      <td>1.0</td>\n",
       "    </tr>\n",
       "    <tr>\n",
       "      <th>1</th>\n",
       "      <td>85.0</td>\n",
       "      <td>64.0</td>\n",
       "      <td>59.0</td>\n",
       "      <td>32.0</td>\n",
       "      <td>23.0</td>\n",
       "      <td>0.0</td>\n",
       "      <td>2.0</td>\n",
       "    </tr>\n",
       "    <tr>\n",
       "      <th>2</th>\n",
       "      <td>86.0</td>\n",
       "      <td>54.0</td>\n",
       "      <td>33.0</td>\n",
       "      <td>16.0</td>\n",
       "      <td>54.0</td>\n",
       "      <td>0.0</td>\n",
       "      <td>2.0</td>\n",
       "    </tr>\n",
       "    <tr>\n",
       "      <th>3</th>\n",
       "      <td>91.0</td>\n",
       "      <td>78.0</td>\n",
       "      <td>34.0</td>\n",
       "      <td>24.0</td>\n",
       "      <td>36.0</td>\n",
       "      <td>0.0</td>\n",
       "      <td>2.0</td>\n",
       "    </tr>\n",
       "    <tr>\n",
       "      <th>4</th>\n",
       "      <td>87.0</td>\n",
       "      <td>70.0</td>\n",
       "      <td>12.0</td>\n",
       "      <td>28.0</td>\n",
       "      <td>10.0</td>\n",
       "      <td>0.0</td>\n",
       "      <td>2.0</td>\n",
       "    </tr>\n",
       "    <tr>\n",
       "      <th>...</th>\n",
       "      <td>...</td>\n",
       "      <td>...</td>\n",
       "      <td>...</td>\n",
       "      <td>...</td>\n",
       "      <td>...</td>\n",
       "      <td>...</td>\n",
       "      <td>...</td>\n",
       "    </tr>\n",
       "    <tr>\n",
       "      <th>340</th>\n",
       "      <td>99.0</td>\n",
       "      <td>75.0</td>\n",
       "      <td>26.0</td>\n",
       "      <td>24.0</td>\n",
       "      <td>41.0</td>\n",
       "      <td>12.0</td>\n",
       "      <td>1.0</td>\n",
       "    </tr>\n",
       "    <tr>\n",
       "      <th>341</th>\n",
       "      <td>96.0</td>\n",
       "      <td>69.0</td>\n",
       "      <td>53.0</td>\n",
       "      <td>43.0</td>\n",
       "      <td>203.0</td>\n",
       "      <td>12.0</td>\n",
       "      <td>2.0</td>\n",
       "    </tr>\n",
       "    <tr>\n",
       "      <th>342</th>\n",
       "      <td>98.0</td>\n",
       "      <td>77.0</td>\n",
       "      <td>55.0</td>\n",
       "      <td>35.0</td>\n",
       "      <td>89.0</td>\n",
       "      <td>15.0</td>\n",
       "      <td>1.0</td>\n",
       "    </tr>\n",
       "    <tr>\n",
       "      <th>343</th>\n",
       "      <td>91.0</td>\n",
       "      <td>68.0</td>\n",
       "      <td>27.0</td>\n",
       "      <td>26.0</td>\n",
       "      <td>14.0</td>\n",
       "      <td>16.0</td>\n",
       "      <td>1.0</td>\n",
       "    </tr>\n",
       "    <tr>\n",
       "      <th>344</th>\n",
       "      <td>98.0</td>\n",
       "      <td>99.0</td>\n",
       "      <td>57.0</td>\n",
       "      <td>45.0</td>\n",
       "      <td>65.0</td>\n",
       "      <td>20.0</td>\n",
       "      <td>1.0</td>\n",
       "    </tr>\n",
       "  </tbody>\n",
       "</table>\n",
       "<p>345 rows × 7 columns</p>\n",
       "</div>"
      ],
      "text/plain": [
       "        0     1     2     3      4     5    6\n",
       "0    85.0  92.0  45.0  27.0   31.0   0.0  1.0\n",
       "1    85.0  64.0  59.0  32.0   23.0   0.0  2.0\n",
       "2    86.0  54.0  33.0  16.0   54.0   0.0  2.0\n",
       "3    91.0  78.0  34.0  24.0   36.0   0.0  2.0\n",
       "4    87.0  70.0  12.0  28.0   10.0   0.0  2.0\n",
       "..    ...   ...   ...   ...    ...   ...  ...\n",
       "340  99.0  75.0  26.0  24.0   41.0  12.0  1.0\n",
       "341  96.0  69.0  53.0  43.0  203.0  12.0  2.0\n",
       "342  98.0  77.0  55.0  35.0   89.0  15.0  1.0\n",
       "343  91.0  68.0  27.0  26.0   14.0  16.0  1.0\n",
       "344  98.0  99.0  57.0  45.0   65.0  20.0  1.0\n",
       "\n",
       "[345 rows x 7 columns]"
      ]
     },
     "execution_count": 327,
     "metadata": {},
     "output_type": "execute_result"
    }
   ],
   "source": [
    "bupa_data=pd.DataFrame(np.genfromtxt(\"bupa.data\", delimiter=\",\"))\n",
    "bupa_data"
   ]
  },
  {
   "cell_type": "code",
   "execution_count": 406,
   "id": "religious-administration",
   "metadata": {},
   "outputs": [],
   "source": [
    "import random\n",
    "def model(args, values):\n",
    "    res = 0\n",
    "    for i in range(6):\n",
    "        res += args[i]*values[i]\n",
    "    return round(res) % 2 + 1\n",
    "\n",
    "def model_random(args, values):\n",
    "    return random.randint(1, 2)\n",
    "def square(args):\n",
    "    return args[0]**2"
   ]
  },
  {
   "cell_type": "code",
   "execution_count": 407,
   "id": "connected-bumper",
   "metadata": {},
   "outputs": [],
   "source": [
    "def mse(args, func=model):\n",
    "    res = 0\n",
    "    values = [0, 0, 0, 0, 0, 0]\n",
    "    for i in range(345):   \n",
    "        for j in range(6):\n",
    "            values[j] = bupa_data.iloc[i,j]\n",
    "        y_i = func(args, values)\n",
    "        y_i_real = bupa_data.iloc[i,6]\n",
    "        res += (y_i - y_i_real)**2\n",
    "    return res / 345"
   ]
  },
  {
   "cell_type": "code",
   "execution_count": 408,
   "id": "periodic-juice",
   "metadata": {},
   "outputs": [
    {
     "data": {
      "text/plain": [
       "0.4579710144927536"
      ]
     },
     "execution_count": 408,
     "metadata": {},
     "output_type": "execute_result"
    }
   ],
   "source": [
    "mse([1, 1, 1, 1, 1, 1], model_random)"
   ]
  },
  {
   "cell_type": "code",
   "execution_count": 409,
   "id": "planned-munich",
   "metadata": {},
   "outputs": [
    {
     "name": "stdout",
     "output_type": "stream",
     "text": [
      "[144.92753623188358, 0.0, 0.0, 0.0, 0.0, 0.0]\n",
      "[2.00001000001393]\n"
     ]
    }
   ],
   "source": [
    "def grad(func, args,eps=5e-3):\n",
    "    res=list()\n",
    "    for i in range(len(list(args))):\n",
    "        f_x=func(args)\n",
    "        args[i] += eps\n",
    "        f_x_dx=func(args)\n",
    "        res.append((f_x_dx-f_x)/eps)\n",
    "    return res\n",
    "\n",
    "print(grad(mse, [1, 1, 1, 1, 1, 1], eps=0.0001))\n",
    "print(grad(square, [1], eps=0.00001))"
   ]
  },
  {
   "cell_type": "code",
   "execution_count": 434,
   "id": "serial-ensemble",
   "metadata": {},
   "outputs": [
    {
     "name": "stdout",
     "output_type": "stream",
     "text": [
      "Step 0\n",
      "Meaning =  0.5362318840579711\n",
      "Result:\n",
      "[10.855072463768115, 11.092753623188406, 11.081159420289858, 10.814492753623188, 11.014492753623188, 10.956521739130434]\n",
      "Meaning= 0.4666666666666667\n"
     ]
    }
   ],
   "source": [
    "def descent(func, steps, step, epsilon, x_init):\n",
    "    x = x_init\n",
    "    for i in range(steps):\n",
    "        if i % 100 == 0:\n",
    "            print(\"Step \" + str(i))\n",
    "            print(\"Meaning = \", str(func(x)))\n",
    "        gr = grad(func, x, eps=epsilon)    \n",
    "        for i in range(len(x_init)):\n",
    "            x[i] -= step*gr[i]\n",
    "    print(\"Result:\")\n",
    "    print(x)\n",
    "    print(\"Meaning= \" + str(func(x)))\n",
    "    return x\n",
    "\n",
    "\n",
    "x_final = descent(mse, 10, 1, 1, [1, 1, 1, 1, 1, 1])\n",
    "#print(descent(square, 1000, 0.001, 1e-3, [10]))"
   ]
  },
  {
   "cell_type": "code",
   "execution_count": 435,
   "id": "continental-yesterday",
   "metadata": {},
   "outputs": [],
   "source": [
    "def coincidence_number(func, args):\n",
    "    counter = 0\n",
    "    for i in range(345):      \n",
    "        values = [0, 0, 0, 0, 0, 0]\n",
    "        for j in range(6):\n",
    "            values[j] = bupa_data.iloc[i,j]\n",
    "        res = func(args, values)\n",
    "        real_res = bupa_data.iloc[i,6]\n",
    "        if(res == real_res):\n",
    "            counter += 1\n",
    "    print(str(counter / 345 * 100) + \" %\")"
   ]
  },
  {
   "cell_type": "code",
   "execution_count": 436,
   "id": "interim-advantage",
   "metadata": {},
   "outputs": [
    {
     "name": "stdout",
     "output_type": "stream",
     "text": [
      "53.333333333333336 %\n"
     ]
    }
   ],
   "source": [
    "coincidence_number(model, x_final)"
   ]
  },
  {
   "cell_type": "code",
   "execution_count": null,
   "id": "referenced-basket",
   "metadata": {},
   "outputs": [],
   "source": []
  }
 ],
 "metadata": {
  "kernelspec": {
   "display_name": "Python 3",
   "language": "python",
   "name": "python3"
  },
  "language_info": {
   "codemirror_mode": {
    "name": "ipython",
    "version": 3
   },
   "file_extension": ".py",
   "mimetype": "text/x-python",
   "name": "python",
   "nbconvert_exporter": "python",
   "pygments_lexer": "ipython3",
   "version": "3.9.5"
  }
 },
 "nbformat": 4,
 "nbformat_minor": 5
}
