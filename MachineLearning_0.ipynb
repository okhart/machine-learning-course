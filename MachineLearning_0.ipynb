{
 "cells": [
  {
   "cell_type": "markdown",
   "metadata": {},
   "source": [
    "# Введение в машинное обучение"
   ]
  },
  {
   "cell_type": "markdown",
   "metadata": {},
   "source": [
    "## Основы работы в Python"
   ]
  },
  {
   "cell_type": "markdown",
   "metadata": {},
   "source": [
    "Прежде чем начать работать и писать код стоит удостовериться, что вы подключили все необходимые вам библиотеки. Делается это с помощью команды import NAME или from NAME1 import NAME2, для сокращения можно использовать as"
   ]
  },
  {
   "cell_type": "code",
   "execution_count": 1,
   "metadata": {},
   "outputs": [],
   "source": [
    "import numpy as np\n",
    "import pandas as pd\n",
    "import scipy as sc\n",
    "import sklearn as sk\n",
    "from matplotlib import pylab as plt"
   ]
  },
  {
   "cell_type": "markdown",
   "metadata": {},
   "source": [
    "Python обладает потрясающим количеством библиотек и расширений, которые сильно упрощают написание кода. Многие алгоритмы и функции вы можете найти в пакетах выше. Для начала стоит ознакомиться с типами данных в Python. Списки (lists), кортежи (tuples), множества (sets), словари (dictionaries) предоставляют огромные возможности."
   ]
  },
  {
   "cell_type": "code",
   "execution_count": 2,
   "metadata": {},
   "outputs": [
    {
     "data": {
      "text/plain": [
       "tuple"
      ]
     },
     "execution_count": 2,
     "metadata": {},
     "output_type": "execute_result"
    }
   ],
   "source": [
    "a = (1,2,3,4)\n",
    "type(a)"
   ]
  },
  {
   "cell_type": "code",
   "execution_count": 3,
   "metadata": {},
   "outputs": [
    {
     "data": {
      "text/plain": [
       "list"
      ]
     },
     "execution_count": 3,
     "metadata": {},
     "output_type": "execute_result"
    }
   ],
   "source": [
    "b = [1,2,3,4]\n",
    "type(b)"
   ]
  },
  {
   "cell_type": "code",
   "execution_count": 4,
   "metadata": {},
   "outputs": [
    {
     "data": {
      "text/plain": [
       "dict"
      ]
     },
     "execution_count": 4,
     "metadata": {},
     "output_type": "execute_result"
    }
   ],
   "source": [
    "c = {\"a\":1, \"b\":2}\n",
    "type(c)"
   ]
  },
  {
   "cell_type": "code",
   "execution_count": 6,
   "metadata": {},
   "outputs": [
    {
     "data": {
      "text/plain": [
       "set"
      ]
     },
     "execution_count": 6,
     "metadata": {},
     "output_type": "execute_result"
    }
   ],
   "source": [
    "d={1,2,3,3,4}\n",
    "type(d)"
   ]
  },
  {
   "cell_type": "code",
   "execution_count": 7,
   "metadata": {},
   "outputs": [
    {
     "name": "stdout",
     "output_type": "stream",
     "text": [
      "{1, 2, 3, 4}\n"
     ]
    }
   ],
   "source": [
    "print(d)"
   ]
  },
  {
   "cell_type": "markdown",
   "metadata": {},
   "source": [
    "Ознакомьтесь с основными функциями, которые предоставляют вам эти типы. Обратите внимание, что они бывают изменяемыми и неизменяемыми, хешируемыми и нет. Почитайте описание и попробуйте использование следующих функций: append(), insert(), delete(), remove(), len(). "
   ]
  },
  {
   "cell_type": "code",
   "execution_count": 7,
   "metadata": {},
   "outputs": [
    {
     "name": "stdout",
     "output_type": "stream",
     "text": [
      "[10, 'a', 1] 3\n",
      "[10, 3, 'a', 1]\n",
      "[3, 'a', 1]\n"
     ]
    }
   ],
   "source": [
    "a = [10, 'a']\n",
    "a.append(1)\n",
    "print(a, len(a))\n",
    "a.insert(1, 3)\n",
    "print(a)\n",
    "a.remove(10)\n",
    "print(a)"
   ]
  },
  {
   "cell_type": "markdown",
   "metadata": {},
   "source": [
    "Списки очень мощный встроенный тип. Они могут содержать в себе любые другие типы, и позволяют делать срезы с помощью простого синтаксиса. "
   ]
  },
  {
   "cell_type": "code",
   "execution_count": 10,
   "metadata": {},
   "outputs": [
    {
     "data": {
      "text/plain": [
       "(1, 2, 3, 4)"
      ]
     },
     "execution_count": 10,
     "metadata": {},
     "output_type": "execute_result"
    }
   ],
   "source": [
    "aa=[a,2.5,3,[1,2],(3,4),\"abc\",True,False,1e10,3+2j,{1,23},{3:\"as\"},{(\"aas\"):\"bc\"}]\n",
    "type(aa)\n",
    "aa[0]"
   ]
  },
  {
   "cell_type": "markdown",
   "metadata": {},
   "source": [
    "Cрезы делаются на основе индексов. Индексы нумеруются с нуля. Первый индекс включается в перечисление, последний нет."
   ]
  },
  {
   "cell_type": "code",
   "execution_count": 11,
   "metadata": {},
   "outputs": [
    {
     "data": {
      "text/plain": [
       "[(1, 2, 3, 4), 2.5, 3, [1, 2], (3, 4)]"
      ]
     },
     "execution_count": 11,
     "metadata": {},
     "output_type": "execute_result"
    }
   ],
   "source": [
    "aa[0:5]"
   ]
  },
  {
   "cell_type": "code",
   "execution_count": 12,
   "metadata": {},
   "outputs": [
    {
     "data": {
      "text/plain": [
       "[[1, 2], (3, 4), 'abc', True, False]"
      ]
     },
     "execution_count": 12,
     "metadata": {},
     "output_type": "execute_result"
    }
   ],
   "source": [
    "aa[3:8]"
   ]
  },
  {
   "cell_type": "markdown",
   "metadata": {},
   "source": [
    "Срез можно начинать с \":\""
   ]
  },
  {
   "cell_type": "code",
   "execution_count": 13,
   "metadata": {},
   "outputs": [
    {
     "data": {
      "text/plain": [
       "[(1, 2, 3, 4),\n",
       " 2.5,\n",
       " 3,\n",
       " [1, 2],\n",
       " (3, 4),\n",
       " 'abc',\n",
       " True,\n",
       " False,\n",
       " 10000000000.0,\n",
       " (3+2j),\n",
       " {1, 23}]"
      ]
     },
     "execution_count": 13,
     "metadata": {},
     "output_type": "execute_result"
    }
   ],
   "source": [
    "aa[:11]"
   ]
  },
  {
   "cell_type": "code",
   "execution_count": 14,
   "metadata": {},
   "outputs": [
    {
     "data": {
      "text/plain": [
       "[3,\n",
       " [1, 2],\n",
       " (3, 4),\n",
       " 'abc',\n",
       " True,\n",
       " False,\n",
       " 10000000000.0,\n",
       " (3+2j),\n",
       " {1, 23},\n",
       " {3: 'as'},\n",
       " {'aas': 'bc'}]"
      ]
     },
     "execution_count": 14,
     "metadata": {},
     "output_type": "execute_result"
    }
   ],
   "source": [
    "aa[2:]"
   ]
  },
  {
   "cell_type": "markdown",
   "metadata": {},
   "source": [
    "Можно отсчитывать индексы в обратную сторону."
   ]
  },
  {
   "cell_type": "code",
   "execution_count": 15,
   "metadata": {},
   "outputs": [
    {
     "data": {
      "text/plain": [
       "{'aas': 'bc'}"
      ]
     },
     "execution_count": 15,
     "metadata": {},
     "output_type": "execute_result"
    }
   ],
   "source": [
    "aa[-1]"
   ]
  },
  {
   "cell_type": "code",
   "execution_count": 9,
   "metadata": {},
   "outputs": [
    {
     "ename": "NameError",
     "evalue": "name 'aa' is not defined",
     "output_type": "error",
     "traceback": [
      "\u001b[0;31m---------------------------------------------------------------------------\u001b[0m",
      "\u001b[0;31mNameError\u001b[0m                                 Traceback (most recent call last)",
      "\u001b[0;32m<ipython-input-9-ccfbab256ea5>\u001b[0m in \u001b[0;36m<module>\u001b[0;34m\u001b[0m\n\u001b[0;32m----> 1\u001b[0;31m \u001b[0maa\u001b[0m\u001b[0;34m[\u001b[0m\u001b[0;34m-\u001b[0m\u001b[0;36m3\u001b[0m\u001b[0;34m:\u001b[0m\u001b[0;34m-\u001b[0m\u001b[0;36m1\u001b[0m\u001b[0;34m]\u001b[0m\u001b[0;34m\u001b[0m\u001b[0;34m\u001b[0m\u001b[0m\n\u001b[0m",
      "\u001b[0;31mNameError\u001b[0m: name 'aa' is not defined"
     ]
    }
   ],
   "source": [
    "aa[-3:-1]"
   ]
  },
  {
   "cell_type": "code",
   "execution_count": 17,
   "metadata": {},
   "outputs": [
    {
     "data": {
      "text/plain": [
       "[]"
      ]
     },
     "execution_count": 17,
     "metadata": {},
     "output_type": "execute_result"
    }
   ],
   "source": [
    "aa[-3:2] #Почему вернулся пустой список?\n",
    "#Потому что индекс -3 в данном случае больше индекса 2. При этом шаг по умолчанию равен 1."
   ]
  },
  {
   "cell_type": "code",
   "execution_count": 15,
   "metadata": {},
   "outputs": [
    {
     "name": "stdout",
     "output_type": "stream",
     "text": [
      "[3, [1, 2], (3, 4), 'abc', True, False]\n",
      "[3, [1, 2], [1, 2], (3, 4), 'abc', True, False]\n"
     ]
    }
   ],
   "source": [
    "#Потренируйтесь на срезах, и складывать\\вычитать списки с помощью + и -. Попробуйте другие операторы.\n",
    "aa=[a,2.5,3,[1,2],(3,4),\"abc\",True,False,1e10,3+2j,{1,23},{3:\"as\"},{(\"aas\"):\"bc\"}]\n",
    "print(aa[2:-5])\n",
    "print(aa[2:4]+aa[3:8])\n",
    "#print(aa[2:7]-aa[4]) выдает ошибку, потому что оператор \"-\" для списков не определен"
   ]
  },
  {
   "cell_type": "code",
   "execution_count": 19,
   "metadata": {},
   "outputs": [
    {
     "name": "stdout",
     "output_type": "stream",
     "text": [
      "{1, 2, 3, 4}\n"
     ]
    },
    {
     "ename": "TypeError",
     "evalue": "'set' object is not subscriptable",
     "output_type": "error",
     "traceback": [
      "\u001b[0;31m---------------------------------------------------------------------------\u001b[0m",
      "\u001b[0;31mTypeError\u001b[0m                                 Traceback (most recent call last)",
      "\u001b[0;32m<ipython-input-19-c4ccd7871d73>\u001b[0m in \u001b[0;36m<module>\u001b[0;34m\u001b[0m\n\u001b[1;32m      2\u001b[0m \u001b[0ma\u001b[0m\u001b[0;34m=\u001b[0m\u001b[0;34m[\u001b[0m\u001b[0;36m1\u001b[0m\u001b[0;34m,\u001b[0m \u001b[0;36m2\u001b[0m\u001b[0;34m,\u001b[0m \u001b[0;36m1\u001b[0m\u001b[0;34m,\u001b[0m \u001b[0;36m3\u001b[0m\u001b[0;34m,\u001b[0m \u001b[0;36m4\u001b[0m\u001b[0;34m,\u001b[0m \u001b[0;36m1\u001b[0m\u001b[0;34m]\u001b[0m\u001b[0;34m\u001b[0m\u001b[0;34m\u001b[0m\u001b[0m\n\u001b[1;32m      3\u001b[0m \u001b[0mprint\u001b[0m\u001b[0;34m(\u001b[0m\u001b[0mset\u001b[0m\u001b[0;34m(\u001b[0m\u001b[0ma\u001b[0m\u001b[0;34m)\u001b[0m\u001b[0;34m)\u001b[0m \u001b[0;31m#Элементы множества не могут дублироваться\u001b[0m\u001b[0;34m\u001b[0m\u001b[0;34m\u001b[0m\u001b[0m\n\u001b[0;32m----> 4\u001b[0;31m \u001b[0mprint\u001b[0m\u001b[0;34m(\u001b[0m\u001b[0mset\u001b[0m\u001b[0;34m(\u001b[0m\u001b[0ma\u001b[0m\u001b[0;34m)\u001b[0m\u001b[0;34m[\u001b[0m\u001b[0;36m1\u001b[0m\u001b[0;34m]\u001b[0m\u001b[0;34m)\u001b[0m\u001b[0;34m\u001b[0m\u001b[0;34m\u001b[0m\u001b[0m\n\u001b[0m\u001b[1;32m      5\u001b[0m \u001b[0mb\u001b[0m\u001b[0;34m=\u001b[0m\u001b[0mtuple\u001b[0m\u001b[0;34m(\u001b[0m\u001b[0ma\u001b[0m\u001b[0;34m)\u001b[0m\u001b[0;34m\u001b[0m\u001b[0;34m\u001b[0m\u001b[0m\n\u001b[1;32m      6\u001b[0m \u001b[0;31m#b.append('a') AttributeError, так как кортеж нельзя изменить\u001b[0m\u001b[0;34m\u001b[0m\u001b[0;34m\u001b[0m\u001b[0;34m\u001b[0m\u001b[0m\n",
      "\u001b[0;31mTypeError\u001b[0m: 'set' object is not subscriptable"
     ]
    }
   ],
   "source": [
    "#Выясните разницу между списками, кортежами, множествами.\n",
    "a=[1, 2, 1, 3, 4, 1]\n",
    "print(set(a)) #Элементы множества не могут дублироваться\n",
    "#print(set(a)[1]) TypeError, так как в множестве элементы неупорядочены\n",
    "b=tuple(a)\n",
    "#b.append('a') AttributeError, так как кортеж нельзя изменить"
   ]
  },
  {
   "cell_type": "markdown",
   "metadata": {},
   "source": [
    "Python один из лучших языков для работы с текстом. Строки в python это последовательности символов, к ним можно применять синтаксис срезов."
   ]
  },
  {
   "cell_type": "code",
   "execution_count": 34,
   "metadata": {},
   "outputs": [
    {
     "name": "stdout",
     "output_type": "stream",
     "text": [
      "Hello world\n"
     ]
    }
   ],
   "source": [
    "x = \"Hello\"\n",
    "y = \" world\"\n",
    "print(x+y)"
   ]
  },
  {
   "cell_type": "code",
   "execution_count": 37,
   "metadata": {},
   "outputs": [
    {
     "data": {
      "text/plain": [
       "'ell'"
      ]
     },
     "execution_count": 37,
     "metadata": {},
     "output_type": "execute_result"
    }
   ],
   "source": [
    "x[1:4]"
   ]
  },
  {
   "cell_type": "code",
   "execution_count": 51,
   "metadata": {},
   "outputs": [
    {
     "name": "stdout",
     "output_type": "stream",
     "text": [
      "Hello worl\n",
      "llo world!\n",
      "hello world!\n",
      "HELLO WORLD!\n",
      "aHello world!sHello world!sHello world!a\n",
      "['Hello', 'world!']\n",
      "Hallo world!\n",
      "['H', 'e', 'l', 'l', 'o', ' ', 'w', 'o', 'r', 'l', 'd', '!']\n",
      "344\n"
     ]
    }
   ],
   "source": [
    "#Изучите методы rstrip, lstrip, strip, lower, upper, join, split, replace, list, str, int\n",
    "a = 'Hello world!'\n",
    "print(a.rstrip('!do')) #Удалены \"d\" и \"!\", так как они на конце, но не удалена \"o\", так как она не на конце\n",
    "print(a.lstrip('He')) #То же самое, но с начала строки\n",
    "print(a.lower()) #Lowercase\n",
    "print(a.upper()) #Uppercase\n",
    "print(a.join('assa')) #Строка использована как разделитель\n",
    "print(a.split()) #Разобьем на слова\n",
    "print(a.replace('He', 'Ha'))\n",
    "print(list(a)) #А теперь разобьем побуквенно\n",
    "a=str(345) #Число в строку\n",
    "print(int(a)-1) # И обратно"
   ]
  },
  {
   "cell_type": "code",
   "execution_count": 38,
   "metadata": {},
   "outputs": [
    {
     "name": "stdout",
     "output_type": "stream",
     "text": [
      "neutrino is scattered on electron through Z-boson exchange\n"
     ]
    }
   ],
   "source": [
    "print(\"%s is scattered on %s through %s exchange\" % (\"neutrino\",\"electron\",\"Z-boson\"))"
   ]
  },
  {
   "cell_type": "code",
   "execution_count": null,
   "metadata": {},
   "outputs": [],
   "source": [
    "#Обратите внимание на модуль import re"
   ]
  },
  {
   "cell_type": "markdown",
   "metadata": {},
   "source": [
    "Управляющие конструкции реализованы стандартным набором условий и циклов. Обратите внимание на логические операторы and, not, or и на операторы сравнения is, is not, in, not in. Роль фигурных скобок из С здесь играют отступы, 4 пробела или табуляция по договоренности."
   ]
  },
  {
   "cell_type": "code",
   "execution_count": 54,
   "metadata": {},
   "outputs": [
    {
     "name": "stdout",
     "output_type": "stream",
     "text": [
      "done\n"
     ]
    }
   ],
   "source": [
    "x=0 #Можно ли изменить x так, чтобы вывести слово \"done\"?\n",
    "x=5 #Можно\n",
    "if x>5:\n",
    "    for i in range(6):\n",
    "        x-=1\n",
    "        print(x)\n",
    "elif x<5:\n",
    "    x-=2\n",
    "    print(x)\n",
    "else:\n",
    "    print(\"done\")"
   ]
  },
  {
   "cell_type": "code",
   "execution_count": 60,
   "metadata": {},
   "outputs": [
    {
     "name": "stdout",
     "output_type": "stream",
     "text": [
      "[0, 1, 2, 3, 4]\n",
      "3\n",
      "0\n"
     ]
    }
   ],
   "source": [
    "#поэскпериментируйте с range(), и циклом for. что будет если использовать спискок вместо range? Изучите цикл while самостоятельно\n",
    "a=list()\n",
    "for i in range(5):\n",
    "    a.append(i)\n",
    "print(a)\n",
    "a=0\n",
    "for i in ['a', True, False, True]:\n",
    "    if type(i) == bool:\n",
    "        a += 1\n",
    "print(a) # Посчитали количество bool в списке\n",
    "while(a > 0):\n",
    "    a -= 1\n",
    "print(a) #Выход из цикла, когда a обнулится"
   ]
  },
  {
   "cell_type": "markdown",
   "metadata": {},
   "source": [
    "Функции неотъемлемая часть Python. Ключевое слово def(). Важной является работа с аргументами."
   ]
  },
  {
   "cell_type": "code",
   "execution_count": 15,
   "metadata": {},
   "outputs": [],
   "source": [
    "def func():\n",
    "    pass"
   ]
  },
  {
   "cell_type": "code",
   "execution_count": 16,
   "metadata": {},
   "outputs": [
    {
     "data": {
      "text/plain": [
       "0"
      ]
     },
     "execution_count": 16,
     "metadata": {},
     "output_type": "execute_result"
    }
   ],
   "source": [
    "def func1():\n",
    "    return 0\n",
    "func1()"
   ]
  },
  {
   "cell_type": "code",
   "execution_count": 22,
   "metadata": {},
   "outputs": [
    {
     "name": "stdout",
     "output_type": "stream",
     "text": [
      "sum is: \n"
     ]
    },
    {
     "data": {
      "text/plain": [
       "2"
      ]
     },
     "execution_count": 22,
     "metadata": {},
     "output_type": "execute_result"
    }
   ],
   "source": [
    "def func2(x,y):\n",
    "    print(\"sum is: \")\n",
    "    return x+y\n",
    "func2(1,1)"
   ]
  },
  {
   "cell_type": "code",
   "execution_count": 67,
   "metadata": {},
   "outputs": [
    {
     "name": "stdout",
     "output_type": "stream",
     "text": [
      "(1, 3, 4, 5, 6)\n",
      "(1, 2, 2)\n",
      "('4', 1, True, [1, 2])\n"
     ]
    }
   ],
   "source": [
    "def func3(x,y=1,z=2,*tup):\n",
    "    print((x,y,z)+tup)\n",
    "func3(1,3,4,5,6) #поэскпериментируйте здесь\n",
    "func3(1,2)  #x=y=1, поэтому не дублируются\n",
    "func3('4', 1, True, [1, 2])"
   ]
  },
  {
   "cell_type": "code",
   "execution_count": 66,
   "metadata": {},
   "outputs": [
    {
     "name": "stdout",
     "output_type": "stream",
     "text": [
      "1 2 3 {'m': 5, 'n': 3}\n",
      "{'m': 5, 'n': 3}\n"
     ]
    }
   ],
   "source": [
    "def func4(x,y,z=1, **kwargs):\n",
    "    print(x,y,z,kwargs)\n",
    "    print(kwargs)\n",
    "func4(1,2,m=5,n=3,z=3)"
   ]
  },
  {
   "cell_type": "code",
   "execution_count": 68,
   "metadata": {
    "scrolled": true
   },
   "outputs": [
    {
     "name": "stdout",
     "output_type": "stream",
     "text": [
      "120\n"
     ]
    }
   ],
   "source": [
    "#в чем принципиальная разница в результате работы между func3 и func4?\n",
    "#реализуйте функцию,вычисляющую факториал с помощью рекурсии\n",
    "\n",
    "# В одном случае y - опциональный аргкмент, в другом - нет. Но это мелочь.\n",
    "# *tup - это набор аргументов, переданный функции\n",
    "# **kwargs - это словарь аргументов и их значений\n",
    "def fact(n):\n",
    "    if n ==1:\n",
    "        return 1\n",
    "    else:\n",
    "        return fact(n-1) * n\n",
    "print(fact(5))"
   ]
  },
  {
   "cell_type": "markdown",
   "metadata": {},
   "source": [
    "Рассмотрите самостоятельно следующие темы: исключения, модули. Напишите функцию факториала в отдельный модуль."
   ]
  },
  {
   "cell_type": "markdown",
   "metadata": {},
   "source": [
    "Python поддерживает парадигму ООП. Прочитайте про классы, методы и наследование."
   ]
  },
  {
   "cell_type": "code",
   "execution_count": 32,
   "metadata": {},
   "outputs": [
    {
     "name": "stdout",
     "output_type": "stream",
     "text": [
      "2 3\n",
      "Rolling!\n",
      "3 6\n"
     ]
    }
   ],
   "source": [
    "class Shape:\n",
    "    def __init__(self,x,y): #Что такое __init__\n",
    "        self.x=x\n",
    "        self.y=y\n",
    "    def move(self,dx,dy):\n",
    "        self.x = self.x + dx\n",
    "        self.y = self.y + dy\n",
    "        print(\"Rolling!\")\n",
    "        \n",
    "class Square(Shape):\n",
    "    def __init__(self,side_length=1,x=0,y=0):\n",
    "        Shape.__init__(self,x,y)\n",
    "        self.side_length = side_length\n",
    "        \n",
    "sq = Square(1,2,3)\n",
    "print(sq.x,sq.y)\n",
    "\n",
    "sq.move(1,3)\n",
    "print(sq.x,sq.y)"
   ]
  },
  {
   "cell_type": "code",
   "execution_count": 79,
   "metadata": {},
   "outputs": [
    {
     "name": "stdout",
     "output_type": "stream",
     "text": [
      "electron 0.511\n"
     ]
    }
   ],
   "source": [
    "#Создайте класс Particle, у которой будут такие атрибуты как заряд, масса и др. \n",
    "#Также придумайте методы, которые реализуют взаимодействие.\n",
    "\n",
    "class Particle:\n",
    "    def __init__(self, charge, mass):\n",
    "        self.name=''\n",
    "        self.charge=charge\n",
    "        self.mass=mass\n",
    "    \n",
    "    def setName(self, name):\n",
    "        self.name=name\n",
    "    \n",
    "    def getName(self):\n",
    "        return self.name\n",
    "    \n",
    "    def setCharge(self, charge):\n",
    "        self.charge=charge\n",
    "    \n",
    "    def getCharge(self):\n",
    "        return self.charge\n",
    "    \n",
    "    def setMass(self, mass):\n",
    "        self.mass=mass\n",
    "    \n",
    "    def getMass(self):\n",
    "        return self.mass\n",
    "    \n",
    "a=Particle(-1, 0.511)\n",
    "a.setName('electron')\n",
    "print(a.getName(), a.getMass())"
   ]
  },
  {
   "cell_type": "code",
   "execution_count": null,
   "metadata": {},
   "outputs": [],
   "source": []
  }
 ],
 "metadata": {
  "kernelspec": {
   "display_name": "Python 3",
   "language": "python",
   "name": "python3"
  },
  "language_info": {
   "codemirror_mode": {
    "name": "ipython",
    "version": 3
   },
   "file_extension": ".py",
   "mimetype": "text/x-python",
   "name": "python",
   "nbconvert_exporter": "python",
   "pygments_lexer": "ipython3",
   "version": "3.9.5"
  }
 },
 "nbformat": 4,
 "nbformat_minor": 2
}
